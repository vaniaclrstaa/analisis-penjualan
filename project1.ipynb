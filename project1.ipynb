{
 "cells": [
  {
   "cell_type": "code",
   "execution_count": 1,
   "id": "e2f486aa",
   "metadata": {},
   "outputs": [
    {
     "name": "stdout",
     "output_type": "stream",
     "text": [
      "     tanggal          produk  jumlah  harga\n",
      "0 2025-06-01       Teh Botol       3   3000\n",
      "1 2025-06-01  Indomie Goreng       5   2500\n",
      "2 2025-06-02       Teh Botol       1   3000\n",
      "3 2025-06-02        Kopi ABC       2   4000\n",
      "\n",
      " total penjualan berdasarkan produk: produk\n",
      "Indomie Goreng    5\n",
      "Kopi ABC          2\n",
      "Teh Botol         4\n",
      "Name: jumlah, dtype: int64\n",
      "     tanggal          produk  jumlah  harga  total pendapatan\n",
      "0 2025-06-01       Teh Botol       3   3000              9000\n",
      "1 2025-06-01  Indomie Goreng       5   2500             12500\n",
      "2 2025-06-02       Teh Botol       1   3000              3000\n",
      "3 2025-06-02        Kopi ABC       2   4000              8000\n",
      "32500\n",
      "\n",
      " pendapatan per hari: tanggal\n",
      "2025-06-01    21500\n",
      "2025-06-02    11000\n",
      "Name: total pendapatan, dtype: int64\n",
      "                jumlah  total pendapatan\n",
      "produk                                  \n",
      "Indomie Goreng       5             12500\n",
      "Kopi ABC             2              8000\n",
      "Teh Botol            4             12000\n",
      "\n",
      " pengurutan produk dari paling laris: produk\n",
      "Indomie Goreng    5\n",
      "Teh Botol         4\n",
      "Kopi ABC          2\n",
      "Name: jumlah, dtype: int64\n"
     ]
    },
    {
     "data": {
      "image/png": "[encoded data removed]",
      "text/plain": [
       "<Figure size 640x480 with 1 Axes>"
      ]
     },
     "metadata": {},
     "output_type": "display_data"
    }
   ],
   "source": [
    "import pandas as pd\n",
    "import matplotlib.pyplot as plt\n",
    "data = pd.read_excel('D:/project/dataP1.xlsx')\n",
    "print(data)\n",
    "\n",
    "#menghitung total jumlah barng yang terjual per produk\n",
    "produk_terjual = data.groupby(\"produk\") [\"jumlah\"].sum()\n",
    "print(\"\\n total penjualan berdasarkan produk:\", produk_terjual)\n",
    "\n",
    "#menghitung total pendapatan (jumlah dan harga)per transaksi\n",
    "data[\"total pendapatan\"] = data[\"jumlah\"] * data[\"harga\"]\n",
    "print(data)\n",
    "#menghitung total pendapatan seluruhnya\n",
    "total_pendapatan = data[\"total pendapatan\"].sum()\n",
    "print(total_pendapatan)\n",
    "\n",
    "#mengelompokkan data berdasarkan tanggal dan hitung pendapatan tiap hari\n",
    "pendapatan_per_hari = data.groupby(\"tanggal\") [\"total pendapatan\"].sum()\n",
    "print(\"\\n pendapatan per hari:\", pendapatan_per_hari)\n",
    "\n",
    "#mengelompokkan data berdasarkan produk kemudian hitung total jumlah dan total pendapatannya\n",
    "pd.set_option('display.max_rows', None)\n",
    "pd.set_option('display.max_columns', None)\n",
    "pengelompokan = data.groupby(\"produk\")[[\"jumlah\", \"total pendapatan\"]].sum()\n",
    "print(pengelompokan)\n",
    "\n",
    "#mengurutkan data dari produk yang paling laris ke yang paling sedikit\n",
    "data1 = data.groupby(\"produk\") [\"jumlah\"].sum()\n",
    "data1 = data1.sort_values(ascending=False)\n",
    "print(\"\\n pengurutan produk dari paling laris:\",data1)\n",
    "\n",
    "#visualisasi diagram batang penjualan per produk\n",
    "plt.bar(produk_terjual.index, produk_terjual.values)\n",
    "plt.title(\"penjualan per produk\")\n",
    "plt.xlabel(\"produk\")\n",
    "plt.ylabel(\"jumlah terjual\")\n",
    "plt.show()"
   ]
  }
 ],
 "metadata": {
  "kernelspec": {
   "display_name": "Python 3",
   "language": "python",
   "name": "python3"
  },
  "language_info": {
   "codemirror_mode": {
    "name": "ipython",
    "version": 3
   },
   "file_extension": ".py",
   "mimetype": "text/x-python",
   "name": "python",
   "nbconvert_exporter": "python",
   "pygments_lexer": "ipython3",
   "version": "3.12.5"
  }
 },
 "nbformat": 4,
 "nbformat_minor": 5
}
